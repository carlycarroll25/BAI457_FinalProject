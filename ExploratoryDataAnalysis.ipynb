{
 "cells": [
  {
   "cell_type": "code",
   "execution_count": null,
   "id": "0c2e910a",
   "metadata": {},
   "outputs": [],
   "source": [
    "# BAI 457: Final Project\n",
    "# Exploratory Data Analysis "
   ]
  },
  {
   "cell_type": "code",
   "execution_count": 1,
   "id": "76f4cb2f",
   "metadata": {},
   "outputs": [],
   "source": [
    "##### LOAD PACKAGES #####\n",
    "\n",
    "import pandas as pd\n",
    "import matplotlib.pyplot as plt"
   ]
  },
  {
   "cell_type": "code",
   "execution_count": 2,
   "id": "c6724815",
   "metadata": {},
   "outputs": [],
   "source": [
    "##### LOAD DATASET #####\n",
    "\n",
    "traffic = pd.read_csv(\"traffic.csv\", parse_dates=['Published Date', 'Time_Hour'])"
   ]
  },
  {
   "cell_type": "code",
   "execution_count": 3,
   "id": "95aa76b6",
   "metadata": {},
   "outputs": [
    {
     "name": "stdout",
     "output_type": "stream",
     "text": [
      "<class 'pandas.core.frame.DataFrame'>\n",
      "RangeIndex: 418450 entries, 0 to 418449\n",
      "Data columns (total 13 columns):\n",
      " #   Column             Non-Null Count   Dtype              \n",
      "---  ------             --------------   -----              \n",
      " 0   Traffic Report ID  418450 non-null  object             \n",
      " 1   Published Date     418450 non-null  datetime64[ns, UTC]\n",
      " 2   Issue Reported     418450 non-null  object             \n",
      " 3   Location           418200 non-null  object             \n",
      " 4   Latitude           418371 non-null  float64            \n",
      " 5   Longitude          418371 non-null  float64            \n",
      " 6   Address            418450 non-null  object             \n",
      " 7   Status             416757 non-null  object             \n",
      " 8   Status Date        418450 non-null  object             \n",
      " 9   Agency             61866 non-null   object             \n",
      " 10  Time_Hour          418450 non-null  datetime64[ns]     \n",
      " 11  Volume             149074 non-null  float64            \n",
      " 12  Speed              149074 non-null  float64            \n",
      "dtypes: datetime64[ns, UTC](1), datetime64[ns](1), float64(4), object(7)\n",
      "memory usage: 41.5+ MB\n"
     ]
    },
    {
     "data": {
      "text/plain": [
       "Traffic Report ID         0\n",
       "Published Date            0\n",
       "Issue Reported            0\n",
       "Location                250\n",
       "Latitude                 79\n",
       "Longitude                79\n",
       "Address                   0\n",
       "Status                 1693\n",
       "Status Date               0\n",
       "Agency               356584\n",
       "Time_Hour                 0\n",
       "Volume               269376\n",
       "Speed                269376\n",
       "dtype: int64"
      ]
     },
     "execution_count": 3,
     "metadata": {},
     "output_type": "execute_result"
    }
   ],
   "source": [
    "##### DATASET OVERVIEW #####\n",
    "\n",
    "# determine basic structure\n",
    "traffic.info()\n",
    "\n",
    "# quick statistics\n",
    "traffic.describe()\n",
    "\n",
    "# determine missing value counts\n",
    "traffic.isnull().sum()"
   ]
  },
  {
   "cell_type": "code",
   "execution_count": 4,
   "id": "6a481c75",
   "metadata": {},
   "outputs": [
    {
     "name": "stdout",
     "output_type": "stream",
     "text": [
      "0     22431\n",
      "1     18340\n",
      "2     15467\n",
      "3     12055\n",
      "4      9410\n",
      "5      7538\n",
      "6      6755\n",
      "7      7775\n",
      "8      7005\n",
      "9      5650\n",
      "10     6605\n",
      "11    11418\n",
      "12    18379\n",
      "13    22417\n",
      "14    21817\n",
      "15    20932\n",
      "16    22327\n",
      "17    24886\n",
      "18    25394\n",
      "19    24813\n",
      "20    25263\n",
      "21    27632\n",
      "22    28724\n",
      "23    25417\n",
      "Name: Hour, dtype: int64\n",
      "Friday       66140\n",
      "Thursday     62789\n",
      "Wednesday    62042\n",
      "Tuesday      60762\n",
      "Monday       59870\n",
      "Saturday     57695\n",
      "Sunday       49152\n",
      "Name: Weekday, dtype: int64\n"
     ]
    }
   ],
   "source": [
    "##### TIME BASED PATTERNS #####\n",
    "\n",
    "# incident counts by hour of day\n",
    "traffic['Hour'] = traffic['Time_Hour'].dt.hour\n",
    "hourly_counts = traffic['Hour'].value_counts().sort_index()\n",
    "print(hourly_counts)\n",
    "\n",
    "# incident counts by weekday\n",
    "traffic['Weekday'] = traffic['Time_Hour'].dt.day_name()\n",
    "weekday_counts = traffic['Weekday'].value_counts()\n",
    "print(weekday_counts)"
   ]
  },
  {
   "cell_type": "code",
   "execution_count": 5,
   "id": "6267910b",
   "metadata": {},
   "outputs": [
    {
     "data": {
      "image/png": "[encoded data removed]",
      "text/plain": [
       "<Figure size 1008x576 with 6 Axes>"
      ]
     },
     "metadata": {
      "needs_background": "light"
     },
     "output_type": "display_data"
    }
   ],
   "source": [
    "##### VARIABLE DISTRIBUTIONS #####\n",
    "\n",
    "numeric_cols = traffic.select_dtypes(include=['float64', 'int64']).columns\n",
    "\n",
    "traffic[numeric_cols].hist(bins=30, figsize=(14, 8))\n",
    "plt.suptitle(\"Distributions of Numeric Variables\")\n",
    "plt.show()"
   ]
  },
  {
   "cell_type": "code",
   "execution_count": 6,
   "id": "3315389e",
   "metadata": {},
   "outputs": [
    {
     "name": "stdout",
     "output_type": "stream",
     "text": [
      "\n",
      " Top 5 Highest Volume Readings:\n",
      "\n",
      "                                        Traffic Report ID  \\\n",
      "28830   1044690FB7396009F731D125BD18E634FD77AD28_15538...   \n",
      "374215  5748E8895723A0DA63D2BC75B935735A9C0D9699_15538...   \n",
      "365240  537337C8D4656D862C12E79427C9232B5B7D803E_15538...   \n",
      "33117   E6CFA8E4A054B888D7A80898D1A7092AA631A302_15538...   \n",
      "372439  9B81AB8B62E90FA70A75B819D6F773CC281D6F75_15538...   \n",
      "\n",
      "                  Published Date     Issue Reported  \\\n",
      "28830  2019-03-29 22:35:53+00:00   zSTALLED VEHICLE   \n",
      "374215 2019-03-29 22:40:56+00:00      Crash Service   \n",
      "365240 2019-03-29 22:30:13+00:00       Crash Urgent   \n",
      "33117  2019-03-29 22:36:24+00:00     Traffic Hazard   \n",
      "372439 2019-03-29 22:23:00+00:00  COLLISN/ LVNG SCN   \n",
      "\n",
      "                            Location   Latitude  Longitude  \\\n",
      "28830   POINT (-97.745753 30.397642)  30.397642 -97.745753   \n",
      "374215    POINT (-97.741819 30.2668)  30.266800 -97.741819   \n",
      "365240  POINT (-97.733606 30.292674)  30.292674 -97.733606   \n",
      "33117   POINT (-97.696992 30.408262)  30.408262 -97.696992   \n",
      "372439   POINT (-97.58263 30.369572)  30.369572 -97.582630   \n",
      "\n",
      "                               Address    Status  \\\n",
      "28830      10700 RESEARCH BLVD SVRD NB  ARCHIVED   \n",
      "374215                   501 Brazos St  ARCHIVED   \n",
      "365240         Rathervue Pl & Duval St  ARCHIVED   \n",
      "33117      METRIC BLVD & CEDAR BEND DR  ARCHIVED   \n",
      "372439  N Sh 130 Svrd Nb & E Howard Ln  ARCHIVED   \n",
      "\n",
      "                         Status Date Agency           Time_Hour      Volume  \\\n",
      "28830   03/29/2019 10:55:03 PM +0000    NaN 2019-03-29 22:00:00  146.609848   \n",
      "374215  03/29/2019 11:10:03 PM +0000    NaN 2019-03-29 22:00:00  146.609848   \n",
      "365240  03/29/2019 11:55:04 PM +0000    NaN 2019-03-29 22:00:00  146.609848   \n",
      "33117   03/29/2019 10:55:03 PM +0000    NaN 2019-03-29 22:00:00  146.609848   \n",
      "372439  03/29/2019 11:40:04 PM +0000    NaN 2019-03-29 22:00:00  146.609848   \n",
      "\n",
      "            Speed  Hour Weekday  \n",
      "28830   27.655303    22  Friday  \n",
      "374215  27.655303    22  Friday  \n",
      "365240  27.655303    22  Friday  \n",
      "33117   27.655303    22  Friday  \n",
      "372439  27.655303    22  Friday  \n",
      "\n",
      " Bottom 5 Lowest Speeds:\n",
      "\n",
      "                                        Traffic Report ID  \\\n",
      "276779  06072EB4F0454CBD924930E1FD2F06787E77D416_16133...   \n",
      "279056  77F30DE29B37C940918F2ABDD2D48CFFF2F092F0_16133...   \n",
      "271060  2BA13D739D0F8F90538143D8893224C73E2EE0A8_16133...   \n",
      "285749  C815C1EA05A0C9CD15BAF385FB76353EFDE3E50C_16133...   \n",
      "284119  00AF91033AEFE00A141CF9CFF3BFE5694379B03D_16133...   \n",
      "\n",
      "                  Published Date  Issue Reported  \\\n",
      "276779 2021-02-14 17:19:44+00:00  Traffic Hazard   \n",
      "279056 2021-02-14 17:21:33+00:00  Traffic Hazard   \n",
      "271060 2021-02-14 17:40:28+00:00       COLLISION   \n",
      "285749 2021-02-14 17:28:36+00:00  Traffic Hazard   \n",
      "284119 2021-02-14 17:40:08+00:00  Traffic Hazard   \n",
      "\n",
      "                            Location   Latitude  Longitude  \\\n",
      "276779  POINT (-97.812966 30.191216)  30.191216 -97.812966   \n",
      "279056  POINT (-97.771189 30.274724)  30.274724 -97.771189   \n",
      "271060  POINT (-97.609481 30.186348)  30.186348 -97.609481   \n",
      "285749    POINT (-97.8008 30.126835)  30.126835 -97.800800   \n",
      "284119  POINT (-97.828318 30.294301)  30.294301 -97.828318   \n",
      "\n",
      "                                  Address    Status  \\\n",
      "276779            Menchaca Rd & Shiloh Dr  ARCHIVED   \n",
      "279056                200 N Mopac Expy Sb  ARCHIVED   \n",
      "271060               E Sh 71 Eb & Ross Rd  ARCHIVED   \n",
      "285749        11951-12115 S IH 35 SVRD NB  ARCHIVED   \n",
      "284119  600-640 S Capital Of Texas Hwy Sb  ARCHIVED   \n",
      "\n",
      "                         Status Date Agency           Time_Hour     Volume  \\\n",
      "276779  02/14/2021 05:50:04 PM +0000    NaN 2021-02-14 17:00:00  20.410714   \n",
      "279056  02/14/2021 09:10:03 PM +0000    NaN 2021-02-14 17:00:00  20.410714   \n",
      "271060  02/14/2021 06:35:03 PM +0000    NaN 2021-02-14 17:00:00  20.410714   \n",
      "285749  02/14/2021 06:30:03 PM +0000    NaN 2021-02-14 17:00:00  20.410714   \n",
      "284119  02/14/2021 05:55:02 PM +0000    NaN 2021-02-14 17:00:00  20.410714   \n",
      "\n",
      "          Speed  Hour Weekday  \n",
      "276779  23.4375    17  Sunday  \n",
      "279056  23.4375    17  Sunday  \n",
      "271060  23.4375    17  Sunday  \n",
      "285749  23.4375    17  Sunday  \n",
      "284119  23.4375    17  Sunday  \n"
     ]
    }
   ],
   "source": [
    "##### OUTLIER DETECTION #####\n",
    "\n",
    "print(\"\\n Top 5 Highest Volume Readings:\\n\")\n",
    "print(traffic.sort_values(by='Volume', ascending=False).head(5))\n",
    "\n",
    "print(\"\\n Bottom 5 Lowest Speeds:\\n\")\n",
    "print(traffic.sort_values(by='Speed').head(5))"
   ]
  }
 ],
 "metadata": {
  "kernelspec": {
   "display_name": "Python 3 (ipykernel)",
   "language": "python",
   "name": "python3"
  },
  "language_info": {
   "codemirror_mode": {
    "name": "ipython",
    "version": 3
   },
   "file_extension": ".py",
   "mimetype": "text/x-python",
   "name": "python",
   "nbconvert_exporter": "python",
   "pygments_lexer": "ipython3",
   "version": "3.9.12"
  }
 },
 "nbformat": 4,
 "nbformat_minor": 5
}
