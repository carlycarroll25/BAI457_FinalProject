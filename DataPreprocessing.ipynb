{
 "cells": [
  {
   "cell_type": "code",
   "execution_count": null,
   "id": "c0e9c908",
   "metadata": {},
   "outputs": [],
   "source": [
    "# BAI 457: Final Project \n",
    "# Data Preprocessing"
   ]
  },
  {
   "cell_type": "code",
   "execution_count": 1,
   "id": "c7818823",
   "metadata": {},
   "outputs": [],
   "source": [
    "##### LOAD PACKAGES #####\n",
    "\n",
    "import pandas as pd\n",
    "import numpy as np"
   ]
  },
  {
   "cell_type": "code",
   "execution_count": 2,
   "id": "10f64565",
   "metadata": {},
   "outputs": [],
   "source": [
    "##### LOAD DATA INTO PYTHON #####\n",
    "\n",
    "incident = pd.read_csv(\"Real-Time_Traffic_Incident_Reports_20250418.csv\")\n",
    "radar = pd.read_csv(\"Radar_Traffic_Counts_20250418.csv\")"
   ]
  },
  {
   "cell_type": "code",
   "execution_count": 3,
   "id": "ced732cd",
   "metadata": {},
   "outputs": [],
   "source": [
    "##### RESHAPE AND CLEAN DATA #####\n",
    "\n",
    "### INCIDENT DATA\n",
    "\n",
    "incident['Published Date'] = pd.to_datetime(incident['Published Date'], errors='coerce')\n",
    "incident['Time_Hour'] = incident['Published Date'].dt.floor('H')\n",
    "incident['Time_Hour'] = incident['Time_Hour'].dt.tz_localize(None)\n",
    "\n",
    "### RADAR DATA\n",
    "\n",
    "radar.columns = radar.columns.str.strip()\n",
    "radar['Read Date'] = pd.to_datetime(radar['Read Date'], errors='coerce')\n",
    "radar['Time_Hour'] = radar['Read Date'].dt.floor('H')\n",
    "radar_by_hour = radar.groupby('Time_Hour')[['Volume', 'Speed']].mean().reset_index()\n",
    "radar_by_hour['Time_Hour'] = radar_by_hour['Time_Hour'].dt.tz_localize(None)"
   ]
  },
  {
   "cell_type": "code",
   "execution_count": 4,
   "id": "7de458c9",
   "metadata": {},
   "outputs": [],
   "source": [
    "##### MERGE DATASETS #####\n",
    "\n",
    "traffic = incident.merge(\n",
    "    radar_by_hour,\n",
    "    on='Time_Hour',\n",
    "    how='left'\n",
    ")"
   ]
  },
  {
   "cell_type": "code",
   "execution_count": null,
   "id": "0c936846",
   "metadata": {},
   "outputs": [],
   "source": [
    "##### LOAD INTO A NEW CSV #####\n",
    "\n",
    "traffic.to_csv(\"traffic.csv\", index=False)"
   ]
  }
 ],
 "metadata": {
  "kernelspec": {
   "display_name": "Python 3 (ipykernel)",
   "language": "python",
   "name": "python3"
  },
  "language_info": {
   "codemirror_mode": {
    "name": "ipython",
    "version": 3
   },
   "file_extension": ".py",
   "mimetype": "text/x-python",
   "name": "python",
   "nbconvert_exporter": "python",
   "pygments_lexer": "ipython3",
   "version": "3.9.12"
  }
 },
 "nbformat": 4,
 "nbformat_minor": 5
}
